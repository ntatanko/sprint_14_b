{
 "cells": [
  {
   "cell_type": "code",
   "execution_count": 1,
   "metadata": {},
   "outputs": [],
   "source": [
    "import numpy as np\n",
    "import tensorflow as tf\n",
    "from tensorflow.keras.datasets import fashion_mnist\n",
    "from tensorflow.keras.layers import Dense, Conv2D, Flatten, AvgPool2D\n",
    "from tensorflow.keras.models import Sequential\n",
    "\n"
   ]
  },
  {
   "cell_type": "code",
   "execution_count": 2,
   "metadata": {},
   "outputs": [
    {
     "name": "stdout",
     "output_type": "stream",
     "text": [
      "Downloading data from https://storage.googleapis.com/tensorflow/tf-keras-datasets/train-labels-idx1-ubyte.gz\n",
      "32768/29515 [=================================] - 0s 4us/step\n",
      "Downloading data from https://storage.googleapis.com/tensorflow/tf-keras-datasets/train-images-idx3-ubyte.gz\n",
      "26427392/26421880 [==============================] - 10s 0us/step\n",
      "Downloading data from https://storage.googleapis.com/tensorflow/tf-keras-datasets/t10k-labels-idx1-ubyte.gz\n",
      "8192/5148 [===============================================] - 0s 0us/step\n",
      "Downloading data from https://storage.googleapis.com/tensorflow/tf-keras-datasets/t10k-images-idx3-ubyte.gz\n",
      "4423680/4422102 [==============================] - 1s 0us/step\n"
     ]
    }
   ],
   "source": [
    " (x_train, y_train), (x_test, y_test)=tf.keras.datasets.fashion_mnist.load_data()"
   ]
  },
  {
   "cell_type": "code",
   "execution_count": 3,
   "metadata": {},
   "outputs": [],
   "source": [
    "features_train = x_train\n",
    "target_train = y_train\n",
    "features_test = x_test\n",
    "target_test = y_test"
   ]
  },
  {
   "cell_type": "code",
   "execution_count": 4,
   "metadata": {},
   "outputs": [
    {
     "data": {
      "text/plain": [
       "(60000, 28, 28)"
      ]
     },
     "execution_count": 4,
     "metadata": {},
     "output_type": "execute_result"
    }
   ],
   "source": [
    "features_train.shape"
   ]
  },
  {
   "cell_type": "code",
   "execution_count": 5,
   "metadata": {},
   "outputs": [],
   "source": [
    "features_train = features_train.reshape(-1, 28, 28, 1) / 255.0\n",
    "features_test = features_test.reshape(-1, 28, 28, 1) / 255.0"
   ]
  },
  {
   "cell_type": "code",
   "execution_count": 6,
   "metadata": {},
   "outputs": [
    {
     "data": {
      "text/plain": [
       "(60000, 28, 28, 1)"
      ]
     },
     "execution_count": 6,
     "metadata": {},
     "output_type": "execute_result"
    }
   ],
   "source": [
    "features_train.shape"
   ]
  },
  {
   "cell_type": "code",
   "execution_count": 11,
   "metadata": {},
   "outputs": [
    {
     "name": "stdout",
     "output_type": "stream",
     "text": [
      "Model: \"sequential_4\"\n",
      "_________________________________________________________________\n",
      "Layer (type)                 Output Shape              Param #   \n",
      "=================================================================\n",
      "conv2d_8 (Conv2D)            (None, 28, 28, 6)         156       \n",
      "_________________________________________________________________\n",
      "average_pooling2d_1 (Average (None, 14, 14, 6)         0         \n",
      "_________________________________________________________________\n",
      "conv2d_9 (Conv2D)            (None, 10, 10, 16)        2416      \n",
      "_________________________________________________________________\n",
      "average_pooling2d_2 (Average (None, 5, 5, 16)          0         \n",
      "_________________________________________________________________\n",
      "flatten_4 (Flatten)          (None, 400)               0         \n",
      "_________________________________________________________________\n",
      "dense_12 (Dense)             (None, 120)               48120     \n",
      "_________________________________________________________________\n",
      "dense_13 (Dense)             (None, 84)                10164     \n",
      "_________________________________________________________________\n",
      "dense_14 (Dense)             (None, 10)                850       \n",
      "=================================================================\n",
      "Total params: 61,706\n",
      "Trainable params: 61,706\n",
      "Non-trainable params: 0\n",
      "_________________________________________________________________\n"
     ]
    }
   ],
   "source": [
    "model = Sequential()\n",
    "model.add(\n",
    "    Conv2D(filters=6,\n",
    "           kernel_size=(5, 5),\n",
    "           activation='relu',\n",
    "           input_shape=(28, 28, 1),\n",
    "           padding='same'))\n",
    "model.add(AvgPool2D(pool_size=(2, 2)))\n",
    "model.add(\n",
    "    Conv2D(filters=16, kernel_size=(5, 5), activation='relu', padding='valid'))\n",
    "model.add(AvgPool2D(pool_size=(2, 2), strides=None, padding='valid'))\n",
    "model.add(Flatten())\n",
    "model.add(Dense(units=120, activation='relu'))\n",
    "model.add(Dense(units=84, activation='relu'))\n",
    "model.add(Dense(units=10, activation='softmax'))\n",
    "model.compile(loss='sparse_categorical_crossentropy',\n",
    "              optimizer='sgd',\n",
    "              metrics=['acc'])\n",
    "model.summary()\n",
    "# model.fit(features_train,\n",
    "#           target_train,\n",
    "#           epochs=1,\n",
    "#           verbose=1,\n",
    "#           steps_per_epoch=1,\n",
    "#           batch_size=1)"
   ]
  },
  {
   "cell_type": "code",
   "execution_count": null,
   "metadata": {},
   "outputs": [],
   "source": []
  },
  {
   "cell_type": "code",
   "execution_count": null,
   "metadata": {},
   "outputs": [],
   "source": []
  },
  {
   "cell_type": "code",
   "execution_count": null,
   "metadata": {},
   "outputs": [],
   "source": []
  },
  {
   "cell_type": "code",
   "execution_count": null,
   "metadata": {},
   "outputs": [],
   "source": []
  },
  {
   "cell_type": "code",
   "execution_count": null,
   "metadata": {},
   "outputs": [],
   "source": []
  },
  {
   "cell_type": "code",
   "execution_count": null,
   "metadata": {},
   "outputs": [],
   "source": []
  },
  {
   "cell_type": "code",
   "execution_count": null,
   "metadata": {},
   "outputs": [],
   "source": []
  },
  {
   "cell_type": "code",
   "execution_count": 21,
   "metadata": {},
   "outputs": [],
   "source": [
    "import numpy as np\n",
    "import tensorflow as tf\n",
    "from tensorflow.keras import Sequential\n",
    "from tensorflow.keras.layers import AvgPool2D, Conv2D, Dense, Flatten\n",
    "from tensorflow.keras.preprocessing.image import ImageDataGenerator\n",
    "\n",
    "\n",
    "def load_train(path):\n",
    "    train_datagen = ImageDataGenerator(validation_split=0.25, rescale=1. / 255)\n",
    "    validation_datagen = ImageDataGenerator(validation_split=0.25,\n",
    "                                            rescale=1. / 255)\n",
    "    train_datagen_flow = train_datagen.flow_from_directory(path,\n",
    "                                                           target_size=(150,\n",
    "                                                                        150),\n",
    "                                                           batch_size=16,\n",
    "                                                           class_mode='sparse',\n",
    "                                                           subset='training',\n",
    "                                                           seed=12345)\n",
    "\n",
    "    val_datagen_flow = validation_datagen.flow_from_directory(\n",
    "        path,\n",
    "        target_size=(150, 150),\n",
    "        batch_size=16,\n",
    "        class_mode='sparse',\n",
    "        subset='validation',\n",
    "        seed=12345)\n",
    "    features_train, target_train = train_datagen_flow\n",
    "    return train_datagen_flow\n",
    "\n",
    "\n",
    "# , val_datagen_flow\n",
    "\n",
    "\n",
    "def create_model(input_shape):\n",
    "    model = Sequential()\n",
    "    model.add(\n",
    "        Conv2D(filters=6,\n",
    "               kernel_size=(5, 5),\n",
    "               activation='relu',\n",
    "               input_shape=(150, 150, 3),\n",
    "               padding='same'))\n",
    "    model.add(AvgPool2D(pool_size=(2, 2)))\n",
    "    model.add(\n",
    "        Conv2D(filters=16,\n",
    "               kernel_size=(5, 5),\n",
    "               activation='relu',\n",
    "               padding='valid'))\n",
    "    model.add(AvgPool2D(pool_size=(2, 2), strides=None, padding='valid'))\n",
    "    model.add(Flatten())\n",
    "    model.add(Dense(units=120, activation='relu'))\n",
    "    model.add(Dense(units=84, activation='relu'))\n",
    "    model.add(Dense(units=12, activation='softmax'))\n",
    "    model.compile(loss='sparse_categorical_crossentropy',\n",
    "                  optimizer='adam',\n",
    "                  metrics=['acc'])\n",
    "    return model\n",
    "\n",
    "\n",
    "def train_model(model,\n",
    "                train_data,\n",
    "                test_data,\n",
    "                batch_size=16,\n",
    "                epochs=5,\n",
    "                steps_per_epoch=16,\n",
    "                validation_steps=16):\n",
    "\n",
    "    #     features_train, target_train = train_data\n",
    "    #     features_test, target_test = test_data\n",
    "    model.fit(train_data,\n",
    "              validation_data=test_data,\n",
    "              batch_size=batch_size,\n",
    "              epochs=epochs,\n",
    "              steps_per_epoch=steps_per_epoch,\n",
    "              validation_steps=validation_steps,\n",
    "              verbose=2)\n",
    "\n",
    "    return model"
   ]
  },
  {
   "cell_type": "code",
   "execution_count": null,
   "metadata": {},
   "outputs": [],
   "source": [
    "labels = pd.read_csv('/datasets/faces/labels.csv')\n",
    "train_datagen = ImageDataGenerator(rescale=1. / 255)\n",
    "train_gen_flow = train_datagen.flow_from_dataframe(\n",
    "    dataframe=labels,\n",
    "    directory='/datasets/faces/final_files/',\n",
    "    x_col='file_name',\n",
    "    y_col='real_age',\n",
    "    target_size=(224, 224),\n",
    "    batch_size=32,\n",
    "    class_mode='raw',\n",
    "    seed=12345)"
   ]
  },
  {
   "cell_type": "code",
   "execution_count": null,
   "metadata": {},
   "outputs": [],
   "source": [
    "def train_model(model, train_data, test_data, batch_size, epochs,\n",
    "                steps_per_epoch, validation_steps):\n",
    "\n",
    "    model.fit(train_data,\n",
    "              validation_data=test_data,\n",
    "              batch_size=batch_size,\n",
    "              epochs=epochs,\n",
    "              steps_per_epoch=steps_per_epoch,\n",
    "              validation_steps=validation_steps,\n",
    "              verbose=2)\n",
    "\n",
    "    return model"
   ]
  },
  {
   "cell_type": "code",
   "execution_count": null,
   "metadata": {},
   "outputs": [],
   "source": [
    "\n",
    "# def load_train(path):\n",
    "#     features_train = np.load(path + 'train_features.npy')\n",
    "#     target_train = np.load(path + 'train_target.npy')\n",
    "#     features_train = features_train.reshape(features_train.shape[0],\n",
    "#                                             28 * 28) / 255.\n",
    "#     return features_train, target_train\n",
    "\n",
    "\n",
    "# def create_model(input_shape):\n",
    "#     model = Sequential()\n",
    "#     model.add(Dense(10, input_shape=input_shape, activation='relu'))\n",
    "#     model.add(Dense(10, activation='softmax'))\n",
    "#     model.compile(optimizer='sgd',\n",
    "#                   loss='sparse_categorical_crossentropy',\n",
    "#                   metrics=['acc'])\n",
    "\n",
    "#     return model\n",
    "\n",
    "\n",
    "# def train_model(model,\n",
    "#                 train_data,\n",
    "#                 test_data,\n",
    "#                 batch_size=32,\n",
    "#                 epochs=5,\n",
    "#                 steps_per_epoch=None,\n",
    "#                 validation_steps=None):\n",
    "\n",
    "#     features_train, target_train = train_data\n",
    "#     features_test, target_test = test_data\n",
    "#     model.fit(features_train,\n",
    "#               target_train,\n",
    "#               validation_data=(features_test, target_test),\n",
    "#               batch_size=batch_size,\n",
    "#               epochs=epochs,\n",
    "#               steps_per_epoch=steps_per_epoch,\n",
    "#               validation_steps=validation_steps,\n",
    "#               verbose=2,\n",
    "#               shuffle=True)\n",
    "\n",
    "#     return model"
   ]
  }
 ],
 "metadata": {
  "kernelspec": {
   "display_name": "Python 3",
   "language": "python",
   "name": "python3"
  },
  "language_info": {
   "codemirror_mode": {
    "name": "ipython",
    "version": 3
   },
   "file_extension": ".py",
   "mimetype": "text/x-python",
   "name": "python",
   "nbconvert_exporter": "python",
   "pygments_lexer": "ipython3",
   "version": "3.8.2"
  }
 },
 "nbformat": 4,
 "nbformat_minor": 4
}
